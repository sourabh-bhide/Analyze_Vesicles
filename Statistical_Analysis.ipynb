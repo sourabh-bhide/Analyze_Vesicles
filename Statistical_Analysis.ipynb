{
 "cells": [
  {
   "cell_type": "code",
   "execution_count": 12,
   "metadata": {},
   "outputs": [],
   "source": [
    "import scipy\n",
    "from scipy import ndimage\n",
    "import scipy.misc\n",
    "import matplotlib.pyplot as plt\n",
    "import numpy as np\n",
    "from PIL import Image\n",
    "import pandas as pd\n",
    "import os\n",
    "import os.path\n",
    "from datetime import datetime\n",
    "from scipy import stats"
   ]
  },
  {
   "cell_type": "code",
   "execution_count": null,
   "metadata": {},
   "outputs": [],
   "source": []
  },
  {
   "cell_type": "code",
   "execution_count": 13,
   "metadata": {},
   "outputs": [
    {
     "data": {
      "text/plain": [
       "['Graph10_BoiPy__60xWater',\n",
       " 'Graph11_ER__60xWater',\n",
       " 'Graph12_Golgi__60xWater',\n",
       " 'Graph14_Atg8a_Epistase_time_Of_Woud_Healing__40x',\n",
       " 'Graph15_Atg8a_Insulin_Foxo_time_Of_Woud_Healing__40x_and_60x',\n",
       " 'Graph16_Atg8a_Foxo_TM_time_Of_Woud_Healing__40xOil',\n",
       " 'Graph17_Atg8a_time_Of_Woud_Healing__40xOil',\n",
       " 'Graph1_Geraf2__Atg8a__40xOil_rest_of_data',\n",
       " 'Graph3_Atg8a_Epistase__40xOil',\n",
       " 'Graph4_Graph5_Atg8a_Chloroquine_you.have.all.images',\n",
       " 'Graph6_Graph7_LAMP1.GFP__60xWater',\n",
       " 'Graph8_Graph9_GFP.LAMP1__60xWater']"
      ]
     },
     "execution_count": 13,
     "metadata": {},
     "output_type": "execute_result"
    }
   ],
   "source": [
    "experiments = os.listdir(os. getcwd())\n",
    "for item in experiments:\n",
    "    if 'raph' not in item : experiments.remove(item)\n",
    "experiments.remove('.ipynb_checkpoints')\n",
    "experiments.remove('Measure_and _Plot.ipynb')\n",
    "experiments.remove('Results')\n",
    "experiments.remove('train')\n",
    "experiments"
   ]
  },
  {
   "cell_type": "code",
   "execution_count": 14,
   "metadata": {},
   "outputs": [
    {
     "ename": "TypeError",
     "evalue": "mannwhitneyu() missing 1 required positional argument: 'y'",
     "output_type": "error",
     "traceback": [
      "\u001b[0;31m---------------------------------------------------------------------------\u001b[0m",
      "\u001b[0;31mTypeError\u001b[0m                                 Traceback (most recent call last)",
      "\u001b[0;32m<ipython-input-14-40999c2eeb3e>\u001b[0m in \u001b[0;36m<module>\u001b[0;34m\u001b[0m\n\u001b[1;32m      3\u001b[0m     \u001b[0mdf\u001b[0m\u001b[0;34m=\u001b[0m\u001b[0mpd\u001b[0m\u001b[0;34m.\u001b[0m\u001b[0mread_csv\u001b[0m\u001b[0;34m(\u001b[0m\u001b[0mdata_csv_dir\u001b[0m\u001b[0;34m+\u001b[0m\u001b[0mexperiment\u001b[0m\u001b[0;34m+\u001b[0m\u001b[0;34m'_mean_cell_sizes.csv'\u001b[0m\u001b[0;34m,\u001b[0m \u001b[0msep\u001b[0m\u001b[0;34m=\u001b[0m\u001b[0;34m';'\u001b[0m\u001b[0;34m,\u001b[0m \u001b[0mdecimal\u001b[0m\u001b[0;34m=\u001b[0m\u001b[0;34m','\u001b[0m\u001b[0;34m)\u001b[0m\u001b[0;34m\u001b[0m\u001b[0;34m\u001b[0m\u001b[0m\n\u001b[1;32m      4\u001b[0m     \u001b[0;32mfor\u001b[0m \u001b[0mcolumn\u001b[0m \u001b[0;32min\u001b[0m \u001b[0mdf\u001b[0m\u001b[0;34m.\u001b[0m\u001b[0mcolumns\u001b[0m\u001b[0;34m:\u001b[0m\u001b[0;34m\u001b[0m\u001b[0;34m\u001b[0m\u001b[0m\n\u001b[0;32m----> 5\u001b[0;31m         \u001b[0mprint\u001b[0m\u001b[0;34m(\u001b[0m\u001b[0mcolumn\u001b[0m\u001b[0;34m,\u001b[0m\u001b[0mstats\u001b[0m\u001b[0;34m.\u001b[0m\u001b[0mmannwhitneyu\u001b[0m\u001b[0;34m(\u001b[0m\u001b[0mdf\u001b[0m\u001b[0;34m[\u001b[0m\u001b[0mcolumn\u001b[0m\u001b[0;34m]\u001b[0m\u001b[0;34m)\u001b[0m\u001b[0;34m)\u001b[0m\u001b[0;34m\u001b[0m\u001b[0;34m\u001b[0m\u001b[0m\n\u001b[0m",
      "\u001b[0;31mTypeError\u001b[0m: mannwhitneyu() missing 1 required positional argument: 'y'"
     ]
    }
   ],
   "source": [
    "data_csv_dir = 'Results/'\n",
    "for experiment in experiments:\n",
    "    df=pd.read_csv(data_csv_dir+experiment+'_mean_cell_sizes.csv', sep=';', decimal=',')\n",
    "    for column in df.columns:\n",
    "        print(column,stats.mannwhitneyu(df[column]))"
   ]
  },
  {
   "cell_type": "code",
   "execution_count": 17,
   "metadata": {},
   "outputs": [
    {
     "data": {
      "text/plain": [
       "1_Q__A58_GFP_Lamp1_Control    41.622851\n",
       "2_Q__A58_GFP_Lamp1_TSC1_2     47.907219\n",
       "3_Q__A58_GFP_Lamp1_TorTED     41.026034\n",
       "4_Q__A58_GFP_Lamp1_Tori       36.849754\n",
       "5_Q__A58_GFP_Lamp1_raptori    41.622407\n",
       "dtype: float64"
      ]
     },
     "execution_count": 17,
     "metadata": {},
     "output_type": "execute_result"
    }
   ],
   "source": [
    "#df = df.drop(columns=['Unnamed: 0'])\n",
    "df = df.sort_index(axis=1)\n",
    "df.mean().head()"
   ]
  },
  {
   "cell_type": "code",
   "execution_count": 22,
   "metadata": {},
   "outputs": [
    {
     "ename": "AttributeError",
     "evalue": "'DataFrame' object has no attribute 'column'",
     "output_type": "error",
     "traceback": [
      "\u001b[0;31m---------------------------------------------------------------------------\u001b[0m",
      "\u001b[0;31mAttributeError\u001b[0m                            Traceback (most recent call last)",
      "\u001b[0;32m<ipython-input-22-328ae6c383d5>\u001b[0m in \u001b[0;36m<module>\u001b[0;34m\u001b[0m\n\u001b[1;32m     10\u001b[0m     \u001b[0;32mfor\u001b[0m \u001b[0mcolumn\u001b[0m \u001b[0;32min\u001b[0m \u001b[0mdf\u001b[0m\u001b[0;34m.\u001b[0m\u001b[0mcolumns\u001b[0m\u001b[0;34m:\u001b[0m\u001b[0;34m\u001b[0m\u001b[0;34m\u001b[0m\u001b[0m\n\u001b[1;32m     11\u001b[0m \u001b[0;34m\u001b[0m\u001b[0m\n\u001b[0;32m---> 12\u001b[0;31m         \u001b[0mprint\u001b[0m\u001b[0;34m(\u001b[0m\u001b[0mstats\u001b[0m\u001b[0;34m.\u001b[0m\u001b[0mkruskal\u001b[0m\u001b[0;34m(\u001b[0m\u001b[0mcontrol\u001b[0m\u001b[0;34m,\u001b[0m \u001b[0mdf\u001b[0m\u001b[0;34m.\u001b[0m\u001b[0mcolumn\u001b[0m\u001b[0;34m)\u001b[0m\u001b[0;34m)\u001b[0m\u001b[0;34m\u001b[0m\u001b[0;34m\u001b[0m\u001b[0m\n\u001b[0m\u001b[1;32m     13\u001b[0m \u001b[0;34m\u001b[0m\u001b[0m\n",
      "\u001b[0;32m/opt/anaconda3/lib/python3.7/site-packages/pandas/core/generic.py\u001b[0m in \u001b[0;36m__getattr__\u001b[0;34m(self, name)\u001b[0m\n\u001b[1;32m   5272\u001b[0m             \u001b[0;32mif\u001b[0m \u001b[0mself\u001b[0m\u001b[0;34m.\u001b[0m\u001b[0m_info_axis\u001b[0m\u001b[0;34m.\u001b[0m\u001b[0m_can_hold_identifiers_and_holds_name\u001b[0m\u001b[0;34m(\u001b[0m\u001b[0mname\u001b[0m\u001b[0;34m)\u001b[0m\u001b[0;34m:\u001b[0m\u001b[0;34m\u001b[0m\u001b[0;34m\u001b[0m\u001b[0m\n\u001b[1;32m   5273\u001b[0m                 \u001b[0;32mreturn\u001b[0m \u001b[0mself\u001b[0m\u001b[0;34m[\u001b[0m\u001b[0mname\u001b[0m\u001b[0;34m]\u001b[0m\u001b[0;34m\u001b[0m\u001b[0;34m\u001b[0m\u001b[0m\n\u001b[0;32m-> 5274\u001b[0;31m             \u001b[0;32mreturn\u001b[0m \u001b[0mobject\u001b[0m\u001b[0;34m.\u001b[0m\u001b[0m__getattribute__\u001b[0m\u001b[0;34m(\u001b[0m\u001b[0mself\u001b[0m\u001b[0;34m,\u001b[0m \u001b[0mname\u001b[0m\u001b[0;34m)\u001b[0m\u001b[0;34m\u001b[0m\u001b[0;34m\u001b[0m\u001b[0m\n\u001b[0m\u001b[1;32m   5275\u001b[0m \u001b[0;34m\u001b[0m\u001b[0m\n\u001b[1;32m   5276\u001b[0m     \u001b[0;32mdef\u001b[0m \u001b[0m__setattr__\u001b[0m\u001b[0;34m(\u001b[0m\u001b[0mself\u001b[0m\u001b[0;34m,\u001b[0m \u001b[0mname\u001b[0m\u001b[0;34m:\u001b[0m \u001b[0mstr\u001b[0m\u001b[0;34m,\u001b[0m \u001b[0mvalue\u001b[0m\u001b[0;34m)\u001b[0m \u001b[0;34m->\u001b[0m \u001b[0;32mNone\u001b[0m\u001b[0;34m:\u001b[0m\u001b[0;34m\u001b[0m\u001b[0;34m\u001b[0m\u001b[0m\n",
      "\u001b[0;31mAttributeError\u001b[0m: 'DataFrame' object has no attribute 'column'"
     ]
    }
   ],
   "source": [
    "\n",
    "data_csv_dir = 'Results/'\n",
    "for experiment in experiments:\n",
    "    df=pd.read_csv(data_csv_dir+experiment+'_mean_cell_sizes.csv', sep=';', decimal=',')\n",
    "    df = df.drop(columns=['Unnamed: 0'])\n",
    "    control = []\n",
    "    for column in df.columns:\n",
    "        if 'ontrol' in df.columns: control = column\n",
    "          \n",
    "    for column in df.columns:\n",
    "        print(stats.kruskal(control, df.column))\n",
    "        "
   ]
  },
  {
   "cell_type": "code",
   "execution_count": 57,
   "metadata": {},
   "outputs": [
    {
     "name": "stdout",
     "output_type": "stream",
     "text": [
      "Graph10_BoiPy__60xWater\n",
      "Graph11_ER__60xWater\n",
      "Graph12_Golgi__60xWater\n",
      "Graph14_Atg8a_Epistase_time_Of_Woud_Healing__40x\n",
      "Graph15_Atg8a_Insulin_Foxo_time_Of_Woud_Healing__40x_and_60x\n",
      "Graph16_Atg8a_Foxo_TM_time_Of_Woud_Healing__40xOil\n",
      "Graph17_Atg8a_time_Of_Woud_Healing__40xOil\n",
      "Graph1_Geraf2__Atg8a__40xOil_rest_of_data\n",
      "Graph3_Atg8a_Epistase__40xOil\n",
      "Graph4_Graph5_Atg8a_Chloroquine_you.have.all.images\n",
      "Graph6_Graph7_LAMP1.GFP__60xWater\n",
      "Graph8_Graph9_GFP.LAMP1__60xWater\n"
     ]
    }
   ],
   "source": [
    "#Mann-Whitney U test\n",
    "data_csv_dir = 'Results/'\n",
    "Data=[]\n",
    "for experiment in experiments:\n",
    "    print(experiment)\n",
    "    df=pd.read_csv(data_csv_dir+experiment+'_mean_cell_sizes.csv', sep=';', decimal=',')\n",
    "    df = df.drop(columns=['Unnamed: 0'])\n",
    "    for column in df.columns:\n",
    "        if 'ontrol' in column :control = column\n",
    "    \n",
    "    for column in df.columns:\n",
    "        statistics,p_value = stats.mannwhitneyu(df[control],df[column])\n",
    "        data = experiment,column,statistics,p_value\n",
    "        data=np.array(data)\n",
    "        Data=np.append(Data,data)\n",
    "        \n",
    "Data=np.reshape(Data, (-1, 4))\n",
    "df2 = pd.DataFrame(data=Data,columns=['experiment','condition','statistics','p-value'])\n",
    "df2.to_csv('Mann-Whitney_Statistics_mean_cell_sizes.csv', sep=';', decimal=',')\n",
    "        "
   ]
  },
  {
   "cell_type": "code",
   "execution_count": 61,
   "metadata": {},
   "outputs": [
    {
     "name": "stdout",
     "output_type": "stream",
     "text": [
      "Graph10_BoiPy__60xWater\n",
      "Graph11_ER__60xWater\n",
      "Graph12_Golgi__60xWater\n",
      "Graph14_Atg8a_Epistase_time_Of_Woud_Healing__40x\n",
      "Graph15_Atg8a_Insulin_Foxo_time_Of_Woud_Healing__40x_and_60x\n",
      "Graph16_Atg8a_Foxo_TM_time_Of_Woud_Healing__40xOil\n",
      "Graph17_Atg8a_time_Of_Woud_Healing__40xOil\n",
      "Graph1_Geraf2__Atg8a__40xOil_rest_of_data\n",
      "Graph3_Atg8a_Epistase__40xOil\n",
      "Graph4_Graph5_Atg8a_Chloroquine_you.have.all.images\n",
      "Graph6_Graph7_LAMP1.GFP__60xWater\n",
      "Graph8_Graph9_GFP.LAMP1__60xWater\n"
     ]
    }
   ],
   "source": [
    "#Mann-Whitney U test\n",
    "data_csv_dir = 'Results/'\n",
    "Data=[]\n",
    "for experiment in experiments:\n",
    "    print(experiment)\n",
    "    df=pd.read_csv(data_csv_dir+experiment+'_mean_cell_numbers.csv', sep=';', decimal=',')\n",
    "    df = df.drop(columns=['Unnamed: 0'])\n",
    "    for column in df.columns:\n",
    "        if 'ontrol' in column :control = column\n",
    "    \n",
    "    for column in df.columns:\n",
    "        statistics,p_value = stats.mannwhitneyu(df[control],df[column])\n",
    "        data = experiment,column,statistics,p_value\n",
    "        data=np.array(data)\n",
    "        Data=np.append(Data,data)\n",
    "        \n",
    "Data=np.reshape(Data, (-1, 4))\n",
    "df4 = pd.DataFrame(data=Data,columns=['experiment','condition','statistics','p-value'])\n",
    "df4.to_csv('Mann-Whitney_Statistics_mean_cell_numbers.csv', sep=';', decimal=',')\n",
    "    "
   ]
  },
  {
   "cell_type": "code",
   "execution_count": 60,
   "metadata": {},
   "outputs": [
    {
     "name": "stdout",
     "output_type": "stream",
     "text": [
      "Graph10_BoiPy__60xWater\n",
      "Graph11_ER__60xWater\n",
      "Graph12_Golgi__60xWater\n",
      "Graph14_Atg8a_Epistase_time_Of_Woud_Healing__40x\n",
      "Graph15_Atg8a_Insulin_Foxo_time_Of_Woud_Healing__40x_and_60x\n"
     ]
    },
    {
     "ename": "ValueError",
     "evalue": "zero_method 'wilcox' and 'pratt' do not work if the x - y is zero for all elements.",
     "output_type": "error",
     "traceback": [
      "\u001b[0;31m---------------------------------------------------------------------------\u001b[0m",
      "\u001b[0;31mValueError\u001b[0m                                Traceback (most recent call last)",
      "\u001b[0;32m<ipython-input-60-e7639bee8988>\u001b[0m in \u001b[0;36m<module>\u001b[0;34m\u001b[0m\n\u001b[1;32m     10\u001b[0m \u001b[0;34m\u001b[0m\u001b[0m\n\u001b[1;32m     11\u001b[0m     \u001b[0;32mfor\u001b[0m \u001b[0mcolumn\u001b[0m \u001b[0;32min\u001b[0m \u001b[0mdf\u001b[0m\u001b[0;34m.\u001b[0m\u001b[0mcolumns\u001b[0m\u001b[0;34m:\u001b[0m\u001b[0;34m\u001b[0m\u001b[0;34m\u001b[0m\u001b[0m\n\u001b[0;32m---> 12\u001b[0;31m         \u001b[0mstatistics\u001b[0m\u001b[0;34m,\u001b[0m\u001b[0mp_value\u001b[0m \u001b[0;34m=\u001b[0m \u001b[0mstats\u001b[0m\u001b[0;34m.\u001b[0m\u001b[0mwilcoxon\u001b[0m\u001b[0;34m(\u001b[0m\u001b[0mdf\u001b[0m\u001b[0;34m[\u001b[0m\u001b[0mcontrol\u001b[0m\u001b[0;34m]\u001b[0m\u001b[0;34m,\u001b[0m\u001b[0mdf\u001b[0m\u001b[0;34m[\u001b[0m\u001b[0mcolumn\u001b[0m\u001b[0;34m]\u001b[0m\u001b[0;34m)\u001b[0m\u001b[0;34m\u001b[0m\u001b[0;34m\u001b[0m\u001b[0m\n\u001b[0m\u001b[1;32m     13\u001b[0m         \u001b[0mdata\u001b[0m \u001b[0;34m=\u001b[0m \u001b[0mexperiment\u001b[0m\u001b[0;34m,\u001b[0m\u001b[0mcolumn\u001b[0m\u001b[0;34m,\u001b[0m\u001b[0mstatistics\u001b[0m\u001b[0;34m,\u001b[0m\u001b[0mp_value\u001b[0m\u001b[0;34m\u001b[0m\u001b[0;34m\u001b[0m\u001b[0m\n\u001b[1;32m     14\u001b[0m         \u001b[0mdata\u001b[0m\u001b[0;34m=\u001b[0m\u001b[0mnp\u001b[0m\u001b[0;34m.\u001b[0m\u001b[0marray\u001b[0m\u001b[0;34m(\u001b[0m\u001b[0mdata\u001b[0m\u001b[0;34m)\u001b[0m\u001b[0;34m\u001b[0m\u001b[0;34m\u001b[0m\u001b[0m\n",
      "\u001b[0;32m/opt/anaconda3/lib/python3.7/site-packages/scipy/stats/morestats.py\u001b[0m in \u001b[0;36mwilcoxon\u001b[0;34m(x, y, zero_method, correction, alternative)\u001b[0m\n\u001b[1;32m   2868\u001b[0m         \u001b[0mn_zero\u001b[0m \u001b[0;34m=\u001b[0m \u001b[0mnp\u001b[0m\u001b[0;34m.\u001b[0m\u001b[0msum\u001b[0m\u001b[0;34m(\u001b[0m\u001b[0md\u001b[0m \u001b[0;34m==\u001b[0m \u001b[0;36m0\u001b[0m\u001b[0;34m,\u001b[0m \u001b[0maxis\u001b[0m\u001b[0;34m=\u001b[0m\u001b[0;36m0\u001b[0m\u001b[0;34m)\u001b[0m\u001b[0;34m\u001b[0m\u001b[0;34m\u001b[0m\u001b[0m\n\u001b[1;32m   2869\u001b[0m         \u001b[0;32mif\u001b[0m \u001b[0mn_zero\u001b[0m \u001b[0;34m==\u001b[0m \u001b[0mlen\u001b[0m\u001b[0;34m(\u001b[0m\u001b[0md\u001b[0m\u001b[0;34m)\u001b[0m\u001b[0;34m:\u001b[0m\u001b[0;34m\u001b[0m\u001b[0;34m\u001b[0m\u001b[0m\n\u001b[0;32m-> 2870\u001b[0;31m             raise ValueError(\"zero_method 'wilcox' and 'pratt' do not work if \"\n\u001b[0m\u001b[1;32m   2871\u001b[0m                              \"the x - y is zero for all elements.\")\n\u001b[1;32m   2872\u001b[0m \u001b[0;34m\u001b[0m\u001b[0m\n",
      "\u001b[0;31mValueError\u001b[0m: zero_method 'wilcox' and 'pratt' do not work if the x - y is zero for all elements."
     ]
    }
   ],
   "source": [
    "#Wilcoxon Signed-Rank Test\n",
    "data_csv_dir = 'Results/'\n",
    "Data=[]\n",
    "for experiment in experiments:\n",
    "    print(experiment)\n",
    "    df=pd.read_csv(data_csv_dir+experiment+'_mean_cell_sizes.csv', sep=';', decimal=',')\n",
    "    df = df.drop(columns=['Unnamed: 0'])\n",
    "    for column in df.columns:\n",
    "        if 'ontrol' in column :control = column\n",
    "    \n",
    "    for column in df.columns:\n",
    "        statistics,p_value = stats.wilcoxon(df[control],df[column])\n",
    "        data = experiment,column,statistics,p_value\n",
    "        data=np.array(data)\n",
    "        Data=np.append(Data,data)\n",
    "        \n",
    "Data=np.reshape(Data, (-1, 4))\n",
    "df2 = pd.DataFrame(data=Data,columns=['experiment','condition','statistics','p-value'])\n",
    "df3.to_csv('Mann-Whitney_Statistics.csv', sep=';', decimal=',')"
   ]
  },
  {
   "cell_type": "code",
   "execution_count": null,
   "metadata": {},
   "outputs": [],
   "source": []
  }
 ],
 "metadata": {
  "kernelspec": {
   "display_name": "Python 3",
   "language": "python",
   "name": "python3"
  },
  "language_info": {
   "codemirror_mode": {
    "name": "ipython",
    "version": 3
   },
   "file_extension": ".py",
   "mimetype": "text/x-python",
   "name": "python",
   "nbconvert_exporter": "python",
   "pygments_lexer": "ipython3",
   "version": "3.7.4"
  }
 },
 "nbformat": 4,
 "nbformat_minor": 2
}
